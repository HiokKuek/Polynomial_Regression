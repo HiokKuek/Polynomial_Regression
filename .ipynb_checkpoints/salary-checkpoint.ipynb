{
 "cells": [
  {
   "cell_type": "markdown",
   "id": "02783930-7bdc-4793-8334-3a3d1c6ea5cc",
   "metadata": {},
   "source": [
    "# Predicting Salary given Position"
   ]
  },
  {
   "cell_type": "markdown",
   "id": "6370665f-e136-4f93-950b-087ee747925d",
   "metadata": {},
   "source": [
    "# Introduction \n",
    "Have you ever wondered how much more you would be making if you were in a more senoir position? Wonder no more. In this project, I have taken data from the one and only [Position Salary Dataset](https://www.kaggle.com/datasets/mariospirito/position-salariescsv) and will walk you through my implementation of polynomial regression to help you derive a model. \n",
    "\n",
    "### Goal\n",
    "- Predict salary given experience in months\n",
    "\n",
    "### Sub-Goals\n",
    "- Understand how libraries like ```scikit-learn``` may implement regression\n",
    "- Understand how to use ```scikit-learn``` to implement regression"
   ]
  },
  {
   "cell_type": "markdown",
   "id": "77793e25-f20e-4bc9-9993-7c011b5ce8a4",
   "metadata": {},
   "source": [
    "## Tools\n",
    "In this project, I will make use of: \n",
    "- Pandas, a library for data manipulation\n",
    "- NumPy, a library for scientific computing\n",
    "- Matplotlib, a library for plotting data\n",
    "- scikit-learn, a library for Machine Learning"
   ]
  },
  {
   "cell_type": "code",
   "execution_count": 1,
   "id": "24606871-dd2e-48cc-9493-5f7dc71e607c",
   "metadata": {},
   "outputs": [],
   "source": [
    "import pandas as pd\n",
    "import numpy as np\n",
    "import matplotlib.pyplot as plt\n",
    "from sklearn.linear_model import SGDRegressor #gradient descent with sckit-learn\n",
    "from sklearn.preprocessing import StandardScaler #z-score normalisation with sckit-learn"
   ]
  },
  {
   "cell_type": "code",
   "execution_count": 2,
   "id": "e833c102-aebe-4aae-b58a-bcc2137a1a33",
   "metadata": {},
   "outputs": [],
   "source": [
    "#read data \n",
    "data = pd.read_csv('Position_Salaries.csv')"
   ]
  },
  {
   "cell_type": "code",
   "execution_count": 3,
   "id": "2271b879-799e-43db-b05a-c21a106f59a2",
   "metadata": {},
   "outputs": [
    {
     "name": "stdout",
     "output_type": "stream",
     "text": [
      "            Position  Level   Salary\n",
      "0   Business Analyst      1    45000\n",
      "1  Junior Consultant      2    50000\n",
      "2  Senior Consultant      3    60000\n",
      "3            Manager      4    80000\n",
      "4    Country Manager      5   110000\n",
      "5     Region Manager      6   150000\n",
      "6            Partner      7   200000\n",
      "7     Senior Partner      8   300000\n",
      "8            C-level      9   500000\n",
      "9                CEO     10  1000000\n"
     ]
    }
   ],
   "source": [
    "# visualise data\n",
    "print(data)"
   ]
  },
  {
   "cell_type": "markdown",
   "id": "60d81db9-2fbb-40b3-a26d-a98d46ac50c4",
   "metadata": {},
   "source": [
    "We can see that as you take on more senior positions, your numerical level will increase and your salary will increase. "
   ]
  },
  {
   "cell_type": "code",
   "execution_count": 4,
   "id": "08e920fb-2706-4c46-9a39-215c83f5f0c7",
   "metadata": {},
   "outputs": [],
   "source": [
    "#convert data to numpy arrays\n",
    "data = data.to_numpy()"
   ]
  },
  {
   "cell_type": "code",
   "execution_count": 5,
   "id": "eac639da-8d3c-46ab-b4fe-3052be6d7980",
   "metadata": {},
   "outputs": [],
   "source": [
    "x_train = data[:,1] #Level\n",
    "y_train = data[:,2] #Salary\n",
    "y_train = y_train/1000"
   ]
  },
  {
   "cell_type": "code",
   "execution_count": 6,
   "id": "4bd1c4b1-afc4-43b6-aacc-c2f1f363ea73",
   "metadata": {},
   "outputs": [
    {
     "data": {
      "image/png": "[encoded data removed]",
      "text/plain": [
       "<Figure size 640x480 with 1 Axes>"
      ]
     },
     "metadata": {},
     "output_type": "display_data"
    }
   ],
   "source": [
    "#plot data onto a scatter plot to visualise data\n",
    "plt.scatter(x_train, y_train, marker='x', c='r')\n",
    "plt.title(\"Level vs Salary\")\n",
    "plt.xlabel(\"Level\")\n",
    "plt.ylabel(\"Salary ('000s)\")\n",
    "\n",
    "plt.show()"
   ]
  },
  {
   "cell_type": "markdown",
   "id": "120faa84-2532-48a8-9f69-40839a3fb482",
   "metadata": {},
   "source": [
    "## Linear Regression\n",
    "To get started, lets try and fit a linear function to the data set which can be represented as \n",
    "$$f_{w,b}(x) = wx + b$$\n",
    "where $w$ and $b$ are parameters we are trying to find. \n",
    "\n",
    "#### Cost Function \n",
    "A cost function is a function that is able to give us an indication of how well our model performs. There are many different types of cost function. For this project, I will be using the *sum of squared error* as given: \n",
    "\n",
    "$$J(w,b) = \\frac{1}{2m} \\sum\\limits_{i = 0}^{m-1} (f_{w,b}(x^{(i)}) - y^{(i)})^2$$ \n",
    "\n",
    "where $m$ represents the number of training data"
   ]
  },
  {
   "cell_type": "code",
   "execution_count": 7,
   "id": "4e8d7992-2f6b-48fb-9e32-2084493450a9",
   "metadata": {},
   "outputs": [],
   "source": [
    "#function that calculates the cost given all the parameters\n",
    "\n",
    "def compute_cost(x, y, w, b):\n",
    "    #number of training examples\n",
    "    m = x.shape[0]\n",
    "\n",
    "    total_cost = 0\n",
    "\n",
    "    #getting the sum of squared errors\n",
    "    for i in range(m):\n",
    "        f_wb = w*x[i] + b\n",
    "        cost_i = (f_wb -y[i])**2\n",
    "        total_cost = total_cost + cost_i\n",
    "\n",
    "    #dividing the summation by 2m\n",
    "    total_cost = total_cost/(2*m)\n",
    "\n",
    "    return total_cost"
   ]
  },
  {
   "cell_type": "markdown",
   "id": "b0545f65-ebc9-4b4b-807a-508ac0c01076",
   "metadata": {},
   "source": [
    "#### Gradient Descent\n",
    "*Gradient Descent* is a method to **minimize** a cost function. \n",
    "<img align=\"right\" src=\"./gradient_descent.png\" style=\"width:200px;\"/>\n",
    "\n",
    "If you were to visualise how $J(w,b)$ looks like in relation to it's parameters $w$ and $b$, you get something like a bowl.\n",
    "\n",
    "*Gradient Descent* works by constantly updating the parameters $w$ and $b$ so that you reach the local minimum point of a cost function. \n",
    "\n",
    "[Here](https://www.khanacademy.org/math/multivariable-calculus/applications-of-multivariable-derivatives/optimizing-multivariable-functions/a/what-is-gradient-descent#:~:text=Gradient%20descent%20minimizes%20differentiable%20functions,direction%20of%20the%20negative%20gradient.) for a more detailed explanation of *Gradient Descent*. "
   ]
  },
  {
   "cell_type": "markdown",
   "id": "9ece73cc-05f8-4585-a28b-7091796bd81c",
   "metadata": {},
   "source": [
    "Formula for gradient descent is as follows: \n",
    "$$\\begin{align*}& \\text{repeat until convergence:} \\; \\lbrace \\newline \\; & \\phantom {0000} b := b -  \\alpha \\frac{\\partial J(w,b)}{\\partial b} \\newline       \\; & \\phantom {0000} w := w -  \\alpha \\frac{\\partial J(w,b)}{\\partial w} \\tag{1}  \\; & \n",
    "\\newline & \\rbrace\\end{align*}$$\n",
    "\n",
    "where, parameters $w, b$ are both updated simultaniously and where  \n",
    "$$\n",
    "\\frac{\\partial J(w,b)}{\\partial b}  = \\frac{1}{m} \\sum\\limits_{i = 0}^{m-1} (f_{w,b}(x^{(i)}) - y^{(i)}) \\tag{2}\n",
    "$$\n",
    "$$\n",
    "\\frac{\\partial J(w,b)}{\\partial w}  = \\frac{1}{m} \\sum\\limits_{i = 0}^{m-1} (f_{w,b}(x^{(i)}) -y^{(i)})x^{(i)} \\tag{3}\n",
    "$$\n",
    "* m is the number of training examples in the dataset\n",
    "\n",
    "    \n",
    "*  $f_{w,b}(x^{(i)})$ is the model's prediction, while $y^{(i)}$, is the target value"
   ]
  },
  {
   "cell_type": "markdown",
   "id": "93ea7ecb-0a1f-45a1-bffe-cbaf3fa5d7b0",
   "metadata": {},
   "source": [
    "> To get started, let's create a function that returns the derivative as shown in (2) and (3)"
   ]
  },
  {
   "cell_type": "code",
   "execution_count": 8,
   "id": "a904a41f-f32d-458c-b3e2-12e10bf2bbb7",
   "metadata": {},
   "outputs": [],
   "source": [
    "def compute_gradient(x, y, w, b): \n",
    "    \n",
    "    # Number of training examples\n",
    "    m = x.shape[0]\n",
    "    \n",
    "    dj_dw = 0\n",
    "    dj_db = 0\n",
    "    \n",
    "    for i in range(m):\n",
    "        f_wb = w*x[i] + b\n",
    "        dj_db_i = f_wb - y[i]\n",
    "        dj_dw_i = (f_wb - y[i])*x[i]\n",
    "        dj_dw += dj_dw_i\n",
    "        dj_db += dj_db_i\n",
    "    dj_dw = dj_dw/m\n",
    "    dj_db = dj_db/m\n",
    "        \n",
    "    return dj_dw, dj_db"
   ]
  },
  {
   "cell_type": "markdown",
   "id": "362c5c37-5aea-4e00-a79a-4a72a306468e",
   "metadata": {},
   "source": [
    "> Now, let's create a function that does gradient descent using ```compute_cost``` and ```compute_gradient```"
   ]
  },
  {
   "cell_type": "code",
   "execution_count": 9,
   "id": "ed84d08f-6119-4799-a901-6b5ff8bf7110",
   "metadata": {},
   "outputs": [],
   "source": [
    "def gradient_descent(x, y, w_in, b_in, alpha, num_iters): \n",
    "    \n",
    "    # number of training examples\n",
    "    m = len(x)\n",
    "    \n",
    "    # An array to store cost J and w's at each iteration — primarily for graphing later\n",
    "    J_history = []\n",
    "    w_history = []\n",
    "    w = w_in\n",
    "    b = b_in\n",
    "    \n",
    "    for i in range(num_iters):\n",
    "\n",
    "        # Calculate the gradient and update the parameters\n",
    "        dj_dw, dj_db = compute_gradient(x, y, w, b )  \n",
    "\n",
    "        # Update Parameters using w, b, alpha and gradient\n",
    "        w = w - alpha * dj_dw               \n",
    "        b = b - alpha * dj_db              \n",
    "    return w, b"
   ]
  },
  {
   "cell_type": "markdown",
   "id": "0cdeb708-6eee-40d4-91a6-c2b9ffcdae4c",
   "metadata": {},
   "source": [
    "> Let's run the gradient descent algorithm above! "
   ]
  },
  {
   "cell_type": "code",
   "execution_count": 10,
   "id": "25580c6f-5773-4d0d-833d-fe8dd5a684dc",
   "metadata": {},
   "outputs": [
    {
     "name": "stdout",
     "output_type": "stream",
     "text": [
      "w,b found by gradient descent: 77.3121370287372 -170.50294366292795\n"
     ]
    }
   ],
   "source": [
    "# initialize fitting parameters. Recall that the shape of w is (n,)\n",
    "initial_w = 0.\n",
    "initial_b = 0.\n",
    "\n",
    "# some gradient descent settings\n",
    "iterations = 10000\n",
    "alpha = 0.001\n",
    "\n",
    "w_algo,b_algo = gradient_descent(x_train ,y_train, initial_w, initial_b, alpha, iterations)\n",
    "print(\"w,b found by gradient descent:\", w_algo, b_algo)"
   ]
  },
  {
   "cell_type": "markdown",
   "id": "1a712a64-2e49-4a70-8bf9-55816bb58960",
   "metadata": {},
   "source": [
    "With our algorithm, $w = 77312.1370287372$ and $b = -170502.94366292786$. Let's try using ```Sckit-Learn```, a library that can do gradient descent for us!"
   ]
  },
  {
   "cell_type": "code",
   "execution_count": 11,
   "id": "2519fd53-91da-4813-8492-2a28af492910",
   "metadata": {},
   "outputs": [
    {
     "name": "stdout",
     "output_type": "stream",
     "text": [
      "w,b found by Sckit-Learn: [76.45080357] [-148.38337634]\n",
      "w,b found by my algorithm 77.3121370287372 -170.50294366292795\n"
     ]
    }
   ],
   "source": [
    "sgdr = SGDRegressor(max_iter=10000000)\n",
    "\n",
    "x_train = x_train.reshape(-1, 1) #reformat x_train to have 1 column. rows is determined by number of training sets. \n",
    "sgdr.fit(x_train, y_train)\n",
    "\n",
    "w_sckit = sgdr.coef_\n",
    "b_sckit = sgdr.intercept_\n",
    "\n",
    "print(\"w,b found by Sckit-Learn:\", w_sckit, b_sckit)\n",
    "print(\"w,b found by my algorithm\", w_algo, b_algo)"
   ]
  },
  {
   "cell_type": "markdown",
   "id": "e2a6e637-e096-4b5f-81d7-a71b2f518aec",
   "metadata": {},
   "source": [
    "> The parameters given by ```Sckit-Learn``` is quite different. Let's try and visualise it!  "
   ]
  },
  {
   "cell_type": "code",
   "execution_count": 12,
   "id": "2e73e934-3569-4333-b235-2e925bcf2bb3",
   "metadata": {},
   "outputs": [
    {
     "data": {
      "image/png": "[encoded data removed]",
      "text/plain": [
       "<Figure size 640x480 with 1 Axes>"
      ]
     },
     "metadata": {},
     "output_type": "display_data"
    }
   ],
   "source": [
    "#convert x_train back to a 1-D Array\n",
    "x_train = x_train[:,0]\n",
    "\n",
    "#plotting\n",
    "plt.scatter(x_train, y_train, marker='x', c='r', label=\"data set\")\n",
    "plt.plot(x_train, x_train*w_algo + b_algo, c='b', label=\"my algo\")\n",
    "plt.plot(x_train, x_train*w_sckit +b_sckit, c='g', label=\"sckit-learn\")\n",
    "\n",
    "#labelling\n",
    "plt.legend(loc='upper left')\n",
    "plt.title(\"Level vs Salary\")\n",
    "plt.xlabel(\"Level\")\n",
    "plt.ylabel(\"Salary ('000s)\")\n",
    "plt.show()"
   ]
  },
  {
   "cell_type": "markdown",
   "id": "2acdc894-8cd5-4b72-ba5a-0697eb6557e1",
   "metadata": {},
   "source": [
    "> A linear model cannot accurately predict the data set which explains why both algorithms, even though using the same method, give very different parameters. Let's try **Polynomial Regression** instead!"
   ]
  },
  {
   "cell_type": "markdown",
   "id": "c38a555b-ead6-4394-b37d-342451cfe25e",
   "metadata": {},
   "source": [
    "## Polynomial Regression \n",
    "#### Feature Engineering \n",
    "Suppose we use the following model for polynomial regression: \n",
    "$$y=w_0x_0 + w_1x_1^2 + w_2x_2^3+ ... + w_{15}x_{15}^{16} + b$$\n",
    "We would be adding new features to our equation. \n",
    "\n",
    "Rather than thinking that $x^2$ is the square of $x$, think of it as a new input variable that will ultimately have some effect on the salary. It can visualised with the following equation: \n",
    "\n",
    "$$ f_{\\mathbf{w},b}(\\mathbf{x}) =  w_0x_0+w_1x_1+w_2x_2 + ...+ w_{15}x_{15}+ b $$ \n",
    "where $\\mathbf{w}$ and $\\mathbf{x}$ are column vectors \n",
    "\n",
    "#### Z-Score Normalisation \n",
    "Assuming if $x_0 = 2,  x_{15}^{16} =65536 $. From this, we can expect $w_{15}$ to be alot smaller as compared to $w_{0}$ since a change in $w_{15}$ will induce a siginficant change to the whole equation. This will create a problem while doing gradient descent because we are trying to find all the values of $w$ simultaneously. \n",
    "\n",
    "To prevent this problem from happening, let's first do z-score normalisation on our features. "
   ]
  },
  {
   "cell_type": "code",
   "execution_count": 13,
   "id": "030b7b0f-10a8-4a6e-88d7-79f6e89e44fa",
   "metadata": {},
   "outputs": [],
   "source": [
    "#feature engineering\n",
    "x_train = x_train.reshape(-1, 1) #reformat x_train to have 1 column. rows is determined by number of training sets. \n",
    "x_train_poly = X = np.c_[x_train, x_train**2, x_train**3,x_train**4, x_train**5, x_train**6, x_train**7, \n",
    "x_train**8, x_train**9, x_train**10, x_train**11, x_train**12, x_train**13, x_train**14, x_train**15, x_train**16]\n",
    "\n",
    "#z-score normalise data with sklearn library\n",
    "scaler = StandardScaler()\n",
    "x_train_poly = scaler.fit_transform(x_train_poly)"
   ]
  },
  {
   "cell_type": "markdown",
   "id": "8c04d0e2-9176-4011-98cf-eaeb5a395dbd",
   "metadata": {},
   "source": [
    "#### Same same but different formulas \n",
    "$f(\\mathbf{w},b)$ can be simplified with vector dot product as:\n",
    "$$ f_{\\mathbf{w},b}(\\mathbf{x}) = \\mathbf{w} \\cdot \\mathbf{x} + b  \\tag{1} $$ \n",
    "Therefore, the new cost function is \n",
    "$$J(\\mathbf{w},b) = \\frac{1}{2m} \\sum\\limits_{i = 0}^{m-1} (f_{\\mathbf{w},b}(\\mathbf{x}^{(i)}) - y^{(i)})^2 \\tag{2}$$ "
   ]
  },
  {
   "cell_type": "markdown",
   "id": "66fee9ae-af80-4952-a609-6cc585438050",
   "metadata": {},
   "source": [
    "> We will now implement the new cost function! "
   ]
  },
  {
   "cell_type": "code",
   "execution_count": 14,
   "id": "1476e5ad-0be9-4296-b8be-6a21b9f0b4f6",
   "metadata": {},
   "outputs": [],
   "source": [
    "#cost function as shown in (2)\n",
    "def poly_compute_cost(x,y,w,b):\n",
    "    #number of training sets\n",
    "    m = x.shape[0]\n",
    "    \n",
    "    cost = 0.0\n",
    "    \n",
    "    for i in range(m):                                \n",
    "        f_wb_i = np.dot(x[i], w) + b           \n",
    "        cost = cost + (f_wb_i - y[i])**2       \n",
    "    cost = cost / (2 * m)\n",
    "    \n",
    "    return cost"
   ]
  },
  {
   "cell_type": "markdown",
   "id": "e7a893a8-b609-4dcb-8d3f-d3197c8af397",
   "metadata": {},
   "source": [
    "#### Gradient Descent \n",
    "Gradient descent for multiple variables:\n",
    "\n",
    "$$\\begin{align*} \\text{repeat}&\\text{ until convergence:} \\; \\lbrace \\newline\\;\n",
    "& w_j = w_j -  \\alpha \\frac{\\partial J(\\mathbf{w},b)}{\\partial w_j} \\tag{3}  \\; & \\text{for j = 0..n-1}\\newline\n",
    "&b\\ \\ = b -  \\alpha \\frac{\\partial J(\\mathbf{w},b)}{\\partial b}  \\newline \\rbrace\n",
    "\\end{align*}$$\n",
    "\n",
    "where, n is the number of features, parameters $w_j$,  $b$, are updated simultaneously and where  \n",
    "\n",
    "$$\n",
    "\\begin{align}\n",
    "\\frac{\\partial J(\\mathbf{w},b)}{\\partial w_j}  &= \\frac{1}{m} \\sum\\limits_{i = 0}^{m-1} (f_{\\mathbf{w},b}(\\mathbf{x}^{(i)}) - y^{(i)})x_{j}^{(i)} \\tag{4}  \\\\\n",
    "\\frac{\\partial J(\\mathbf{w},b)}{\\partial b}  &= \\frac{1}{m} \\sum\\limits_{i = 0}^{m-1} (f_{\\mathbf{w},b}(\\mathbf{x}^{(i)}) - y^{(i)}) \\tag{5}\n",
    "\\end{align}\n",
    "$$\n",
    "* m is the number of training examples in the data set\n",
    "\n",
    "    \n",
    "*  $f_{\\mathbf{w},b}(\\mathbf{x}^{(i)})$ is the model's prediction, while $y^{(i)}$ is the target value"
   ]
  },
  {
   "cell_type": "markdown",
   "id": "421dce9d-6597-422d-ba9c-8b8f27cb4c10",
   "metadata": {},
   "source": [
    "> Let's create a function that calculates the gradient in (4) and (5)! "
   ]
  },
  {
   "cell_type": "code",
   "execution_count": 15,
   "id": "417095c5-0534-496d-b923-33d38545eb9c",
   "metadata": {},
   "outputs": [],
   "source": [
    "def poly_compute_gradient(x, y, w, b): \n",
    "\n",
    "    m,n = x.shape           #(number of examples, number of features)\n",
    "    dj_dw = np.zeros((n,))\n",
    "    dj_db = 0.\n",
    "\n",
    "    for i in range(m):                             \n",
    "        err = (np.dot(x[i], w) + b) - y[i]   \n",
    "        for j in range(n):                         \n",
    "            dj_dw[j] = dj_dw[j] + err * x[i, j]    \n",
    "        dj_db = dj_db + err                        \n",
    "    dj_dw = dj_dw / m                                \n",
    "    dj_db = dj_db / m                                \n",
    "        \n",
    "    return dj_db, dj_dw"
   ]
  },
  {
   "cell_type": "markdown",
   "id": "ee72c1f0-bbac-4959-9f22-6226faa33233",
   "metadata": {},
   "source": [
    "> Function for gradient descent!"
   ]
  },
  {
   "cell_type": "code",
   "execution_count": 16,
   "id": "824520f0-540a-484e-8bb5-7e727639ee96",
   "metadata": {},
   "outputs": [],
   "source": [
    "def poly_gradient_descent(x, y, w_in, b_in, alpha, num_iters): \n",
    "    \n",
    "    # An array to store cost J and w's at each iteration primarily for graphing later\n",
    "    J_history = []\n",
    "    w = w_in  #avoid modifying global w within function\n",
    "    b = b_in\n",
    "    \n",
    "    for i in range(num_iters):\n",
    "\n",
    "        # Calculate the gradient and update the parameters\n",
    "        dj_db,dj_dw = poly_compute_gradient(x, y, w, b)   ##None\n",
    "\n",
    "        # Update Parameters using w, b, alpha and gradient\n",
    "        w = w - alpha * dj_dw               ##None\n",
    "        b = b - alpha * dj_db               ##None\n",
    "        \n",
    "    return w, b"
   ]
  },
  {
   "cell_type": "markdown",
   "id": "e9fb028f-5d98-4f9f-ab41-97efd9b882a5",
   "metadata": {},
   "source": [
    "> Let's test the implementation of Gradient Descent! "
   ]
  },
  {
   "cell_type": "code",
   "execution_count": 17,
   "id": "4e54a9e4-494b-451d-a89a-d3795b3418ac",
   "metadata": {
    "scrolled": true
   },
   "outputs": [
    {
     "name": "stdout",
     "output_type": "stream",
     "text": [
      "w, b found by gradient descent: [23.98971381 24.06654338 22.80716463 21.37950276 20.13566017 19.1302024\n",
      " 18.33387043 17.70296519 17.198735   16.79095952 16.45707929 16.18045807\n",
      " 15.94880248 15.75294627 15.58597039 15.44258055], 247.82\n"
     ]
    }
   ],
   "source": [
    "# initialize parameters\n",
    "initial_w = np.zeros_like(x_train_poly[0])\n",
    "initial_b = 0.\n",
    "\n",
    "# some gradient descent settings\n",
    "iterations = 10000\n",
    "alpha = 0.0005\n",
    "\n",
    "# run gradient descent \n",
    "w_algo_poly, b_algo_poly = poly_gradient_descent(x_train_poly, y_train, initial_w, initial_b,alpha, iterations)\n",
    "print(f\"w, b found by gradient descent: {w_algo_poly}, {b_algo_poly:0.2f}\")"
   ]
  },
  {
   "cell_type": "markdown",
   "id": "1dacc32f-8cb4-4a97-a065-3f3c2e90c2e1",
   "metadata": {},
   "source": [
    "> let's do an implementation with ```sckit-learn```"
   ]
  },
  {
   "cell_type": "code",
   "execution_count": 18,
   "id": "6ff0e294-b060-4d90-8c87-ae6bdda50c4a",
   "metadata": {},
   "outputs": [
    {
     "name": "stdout",
     "output_type": "stream",
     "text": [
      "w,b found by Sckit-Learn: [24.06795212 26.10630248 23.92101978 21.16589584 18.98802497 17.53128625\n",
      " 16.66216002 16.21300376 16.04621599 16.06205477 16.19184952 16.38945738\n",
      " 16.62427454 16.876192   17.13213412 17.38373293] [249.50185942]\n",
      "w,b found by my algorithm: [23.98971381 24.06654338 22.80716463 21.37950276 20.13566017 19.1302024\n",
      " 18.33387043 17.70296519 17.198735   16.79095952 16.45707929 16.18045807\n",
      " 15.94880248 15.75294627 15.58597039 15.44258055] 247.8209830079753\n"
     ]
    }
   ],
   "source": [
    "sgdr = SGDRegressor(max_iter=100000000)\n",
    " \n",
    "sgdr.fit(x_train_poly, y_train)\n",
    "\n",
    "w_sckit = sgdr.coef_\n",
    "b_sckit = sgdr.intercept_\n",
    "\n",
    "print(\"w,b found by Sckit-Learn:\", w_sckit, b_sckit)\n",
    "print(\"w,b found by my algorithm:\", w_algo_poly, b_algo_poly)"
   ]
  },
  {
   "cell_type": "markdown",
   "id": "0ea88903-bde9-482b-a6dc-5cb63d94a712",
   "metadata": {},
   "source": [
    "> The parameters are big and messy, let's plot our results on a graph to better visualise it!  "
   ]
  },
  {
   "cell_type": "code",
   "execution_count": 19,
   "id": "60f69fd9-0f72-406d-8614-9e3b7ecbb286",
   "metadata": {},
   "outputs": [],
   "source": [
    "def predicted_x(x, w, b):\n",
    "    m = x.shape[0]\n",
    "    predicted_x = []\n",
    "    for i in range(m):\n",
    "        predicted_x.append(np.dot(x[i],w) + b)\n",
    "    return predicted_x"
   ]
  },
  {
   "cell_type": "code",
   "execution_count": 20,
   "id": "cb314398-c187-4065-b6de-181c2cf21370",
   "metadata": {},
   "outputs": [
    {
     "data": {
      "image/png": "[encoded data removed]",
      "text/plain": [
       "<Figure size 640x480 with 1 Axes>"
      ]
     },
     "metadata": {},
     "output_type": "display_data"
    },
    {
     "data": {
      "text/plain": [
       "<Figure size 640x480 with 0 Axes>"
      ]
     },
     "metadata": {},
     "output_type": "display_data"
    }
   ],
   "source": [
    "#convert x_train back to a 1-D Array\n",
    "poly_x_train_predicted = predicted_x(x_train_poly, w_algo_poly, b_algo_poly)\n",
    "poly_x_train_predicted_sckit = predicted_x(x_train_poly, w_sckit, b_sckit)\n",
    "\n",
    "#plotting\n",
    "plt.scatter(x_train, y_train, marker='x', c='r', label=\"data set\")\n",
    "plt.plot(x_train, poly_x_train_predicted, c='b', label=\"my algo\")\n",
    "plt.plot(x_train, poly_x_train_predicted_sckit, c='g', label=\"sckit-learn\")\n",
    "\n",
    "#labelling\n",
    "plt.legend(loc='upper left')\n",
    "plt.title(\"Level vs Salary\")\n",
    "plt.xlabel(\"Level\")\n",
    "plt.ylabel(\"Salary ('000s)\")\n",
    "plt.show()"
   ]
  },
  {
   "cell_type": "markdown",
   "id": "f0bf9a2d-fd92-4cc6-b513-b77b0c2bd044",
   "metadata": {},
   "source": [
    "#### Hooray! \n",
    "Visually, we can see that our regression model closely matches the model derived using sckit-learn. More importantly, it seems to cut through most points on the dataset which implies that it can accurately predict your salary given your level in an organisation. \n",
    "\n",
    "Let's test our model out and see how much more you will be making in the future. "
   ]
  },
  {
   "cell_type": "code",
   "execution_count": null,
   "id": "8c894b26-3f72-498f-bc28-6101e565e2cf",
   "metadata": {},
   "outputs": [],
   "source": [
    "def f_wb(level): \n",
    "    x = level\n",
    "    x = np.array([x, x**2, x**3,x**4, x**5, x**6, x**7, x**8, x**9, x**10, x**11, x**12, x**13, x**14, x**15, x**16]) #reformat to fit feature engineered model\n",
    "    predicted_income = np.dot(x, w_algo_poly) + b_algo_poly\n",
    "    \n",
    "    return predicted_income\n",
    "    \n",
    "\n",
    "def predict_income_increase(curr_level, fut_level):\n",
    "    curr_inc = f_wb(curr_level)\n",
    "    fut_inc = f_wb(fut_level)\n",
    "\n",
    "    increase = (fut_inc - curr_inc)/curr_inc #calculate income increase in percentage\n",
    "    return round(increase) #round to nearest integer\n",
    "\n",
    "curr_level = 0.0 \n",
    "fut_level = 0.0 \n",
    "\n",
    "while (curr_level < 1 or curr_level > 10):\n",
    "    try:\n",
    "        curr_level = float(input(\"What is your current level in your organisation from a scale of 1 to 10?\"))\n",
    "    except:\n",
    "        print(\"Ensure that input is a float between 1 and 10\")\n",
    "        \n",
    "if int(curr_level) == 10:\n",
    "    print(\"You can't earn any more than this...\")\n",
    "else:\n",
    "    while (fut_level < curr_level or fut_level > 10):\n",
    "        try:\n",
    "            fut_level = float(input(\"Which level do you wish to be at?\"))\n",
    "        except:\n",
    "            print(\"Ensure that your input is a float above your curr_level and below 10\")\n",
    "    \n",
    "    income_increase = predict_income_increase(curr_level, fut_level)\n",
    "    print(f\"Work hard and you will see an income increase of {income_increase}%!\")"
   ]
  },
  {
   "cell_type": "code",
   "execution_count": null,
   "id": "29f554c8-613f-4190-98b9-775ef443d7eb",
   "metadata": {},
   "outputs": [],
   "source": []
  }
 ],
 "metadata": {
  "kernelspec": {
   "display_name": "Python 3 (ipykernel)",
   "language": "python",
   "name": "python3"
  },
  "language_info": {
   "codemirror_mode": {
    "name": "ipython",
    "version": 3
   },
   "file_extension": ".py",
   "mimetype": "text/x-python",
   "name": "python",
   "nbconvert_exporter": "python",
   "pygments_lexer": "ipython3",
   "version": "3.12.2"
  }
 },
 "nbformat": 4,
 "nbformat_minor": 5
}
